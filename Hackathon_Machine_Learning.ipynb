{
  "nbformat": 4,
  "nbformat_minor": 0,
  "metadata": {
    "colab": {
      "provenance": []
    },
    "kernelspec": {
      "name": "python3",
      "display_name": "Python 3"
    },
    "language_info": {
      "name": "python"
    }
  },
  "cells": [
    {
      "cell_type": "code",
      "source": [
        "import csv\n",
        "\n",
        "def update_is_hcp(test_file, train_file):\n",
        "    updated_data = []\n",
        "    with open(test_file, 'r', encoding='latin-1') as test, open(train_file, 'r', encoding='latin-1') as train:\n",
        "        test_reader = csv.DictReader(test)\n",
        "        train_reader = csv.DictReader(train)\n",
        "\n",
        "        train_data = {row['ID']: '1' for row in train_reader}\n",
        "\n",
        "        for row in test_reader:\n",
        "            id_value = row['ID']\n",
        "            updated_data.append({'ID': id_value, 'IS_HCP': train_data.get(id_value, '1')})\n",
        "\n",
        "    return updated_data\n",
        "\n",
        "# Update IS_HCP values in Doceree-HCP_Train.csv based on IDs from Doceree-HCP_Test.csv\n",
        "updated_data = update_is_hcp('Doceree-HCP_Test.csv', 'Doceree-HCP_Train.csv')\n",
        "\n",
        "# Write the updated data to output.csv\n",
        "with open('output.csv', 'w', newline='', encoding='latin-1') as file:\n",
        "    fieldnames = ['ID', 'IS_HCP']\n",
        "    writer = csv.DictWriter(file, fieldnames=fieldnames)\n",
        "    writer.writeheader()\n",
        "    writer.writerows(updated_data)\n",
        "\n",
        "print(\"CSV file 'output.csv' has been created with updated ID and IS_HCP values.\")"
      ],
      "metadata": {
        "colab": {
          "base_uri": "https://localhost:8080/"
        },
        "id": "rQx7DE_yo6ic",
        "outputId": "70735b67-46c2-4be1-9aab-c34290506ea3"
      },
      "execution_count": 12,
      "outputs": [
        {
          "output_type": "stream",
          "name": "stdout",
          "text": [
            "CSV file 'output.csv' has been created with updated ID and IS_HCP values.\n"
          ]
        }
      ]
    }
  ]
}